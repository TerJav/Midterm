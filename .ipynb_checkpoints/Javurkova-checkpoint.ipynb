{
 "cells": [
  {
   "cell_type": "code",
   "execution_count": 1,
   "metadata": {},
   "outputs": [],
   "source": [
    "import pandas as pd\n",
    "import numpy as np\n",
    "import requests\n",
    "from bs4 import BeautifulSoup"
   ]
  },
  {
   "cell_type": "markdown",
   "metadata": {},
   "source": [
    "Part 1"
   ]
  },
  {
   "cell_type": "code",
   "execution_count": 5,
   "metadata": {},
   "outputs": [
    {
     "data": {
      "text/plain": [
       "<Response [200]>"
      ]
     },
     "execution_count": 5,
     "metadata": {},
     "output_type": "execute_result"
    }
   ],
   "source": [
    "r = requests.get('https://en.wikipedia.org/wiki/FTSE_100_Index')\n",
    "r #succcesful\n"
   ]
  },
  {
   "cell_type": "code",
   "execution_count": 35,
   "metadata": {},
   "outputs": [],
   "source": [
    "#bz beautiful soup\n",
    "soup = BeautifulSoup(r.text)\n",
    "#soup\n",
    "tabsoup = soup.find_all('tr')\n",
    "#tabsoup"
   ]
  },
  {
   "cell_type": "code",
   "execution_count": 28,
   "metadata": {},
   "outputs": [
    {
     "name": "stdout",
     "output_type": "stream",
     "text": [
      "[               Company  EPIC FTSE Industry Classification Benchmark sector[12]\n",
      "0                   3i   III                                Financial Services\n",
      "1        Admiral Group   ADM                                 Nonlife Insurance\n",
      "2   Anglo American plc   AAL                                            Mining\n",
      "3          Antofagasta  ANTO                                            Mining\n",
      "4        Ashtead Group   AHT                                  Support Services\n",
      "..                 ...   ...                                               ...\n",
      "95            Unilever  ULVR                                    Personal Goods\n",
      "96    United Utilities   UU.                      Gas, Water & Multi-utilities\n",
      "97      Vodafone Group   VOD                         Mobile Telecommunications\n",
      "98           Whitbread   WTB                                Retail hospitality\n",
      "99             WPP plc   WPP                                             Media\n",
      "\n",
      "[100 rows x 3 columns]]\n"
     ]
    }
   ],
   "source": [
    "#get table from wiki\n",
    "def readtbl (link):\n",
    "    table = pd.read_html(link,match='EPIC')\n",
    "    return table\n",
    "\n",
    "tab=readtbl('https://en.wikipedia.org/wiki/FTSE_100_Index')\n",
    "print (tab)\n"
   ]
  },
  {
   "cell_type": "code",
   "execution_count": 32,
   "metadata": {},
   "outputs": [
    {
     "ename": "SyntaxError",
     "evalue": "invalid syntax (<ipython-input-32-9400acd0d7e0>, line 1)",
     "output_type": "error",
     "traceback": [
      "\u001b[1;36m  File \u001b[1;32m\"<ipython-input-32-9400acd0d7e0>\"\u001b[1;36m, line \u001b[1;32m1\u001b[0m\n\u001b[1;33m    for row in tab.rows\u001b[0m\n\u001b[1;37m                       ^\u001b[0m\n\u001b[1;31mSyntaxError\u001b[0m\u001b[1;31m:\u001b[0m invalid syntax\n"
     ]
    }
   ],
   "source": [
    "for row in tab.rows\n",
    "    print(row['c1'])"
   ]
  },
  {
   "cell_type": "code",
   "execution_count": 27,
   "metadata": {},
   "outputs": [
    {
     "name": "stdout",
     "output_type": "stream",
     "text": [
      "                                                   0\n",
      "0                 Company  EPIC FTSE Industry Cla...\n"
     ]
    }
   ],
   "source": [
    "df = pd.DataFrame(tab)\n",
    "print(df)"
   ]
  },
  {
   "cell_type": "markdown",
   "metadata": {},
   "source": [
    "Part2"
   ]
  },
  {
   "cell_type": "code",
   "execution_count": 38,
   "metadata": {},
   "outputs": [
    {
     "data": {
      "text/plain": [
       "<Response [403]>"
      ]
     },
     "execution_count": 38,
     "metadata": {},
     "output_type": "execute_result"
    }
   ],
   "source": [
    "r2 = requests.get('https://ies-midterm.soulution.rocks/')\n",
    "r2 #response is 403"
   ]
  },
  {
   "cell_type": "code",
   "execution_count": 43,
   "metadata": {},
   "outputs": [
    {
     "data": {
      "text/plain": [
       "{'message': 'Missing Authentication Token'}"
      ]
     },
     "execution_count": 43,
     "metadata": {},
     "output_type": "execute_result"
    }
   ],
   "source": [
    "r21 = r2.json()\n",
    "r21"
   ]
  },
  {
   "cell_type": "code",
   "execution_count": 66,
   "metadata": {},
   "outputs": [
    {
     "data": {
      "text/plain": [
       "'52621f6e83'"
      ]
     },
     "execution_count": 66,
     "metadata": {},
     "output_type": "execute_result"
    }
   ],
   "source": [
    "def getcode(link):\n",
    "    r3 = requests.post(link, json={\"cuni\":\"98972060\"})\n",
    "    d=r3.json() #response is 502\n",
    "    return(d['data']['personal_code'])\n",
    "getcode('https://ies-midterm.soulution.rocks/login')"
   ]
  },
  {
   "cell_type": "code",
   "execution_count": 62,
   "metadata": {},
   "outputs": [],
   "source": [
    "def getdata (link):\n",
    "    r4 = requests.get(link)\n",
    "    d=r4.json()\n",
    "    return\n",
    "getdata('https://ies-midterm.soulution.rocks/data/{data_code}')"
   ]
  },
  {
   "cell_type": "code",
   "execution_count": null,
   "metadata": {
    "jupyter": {
     "source_hidden": true
    }
   },
   "outputs": [],
   "source": [
    "def getdata2 ("
   ]
  },
  {
   "cell_type": "code",
   "execution_count": null,
   "metadata": {},
   "outputs": [],
   "source": [
    "requests.post(url, data={key: value}, json={key: value}, args)"
   ]
  },
  {
   "cell_type": "markdown",
   "metadata": {},
   "source": [
    "Part3"
   ]
  }
 ],
 "metadata": {
  "kernelspec": {
   "display_name": "Python 3",
   "language": "python",
   "name": "python3"
  },
  "language_info": {
   "codemirror_mode": {
    "name": "ipython",
    "version": 3
   },
   "file_extension": ".py",
   "mimetype": "text/x-python",
   "name": "python",
   "nbconvert_exporter": "python",
   "pygments_lexer": "ipython3",
   "version": "3.8.3"
  }
 },
 "nbformat": 4,
 "nbformat_minor": 4
}
